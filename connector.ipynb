{
 "cells": [
  {
   "cell_type": "code",
   "execution_count": 1,
   "metadata": {},
   "outputs": [],
   "source": [
    "from sqlalchemy.engine import result\n",
    "from sqlalchemy import create_engine\n",
    "from sqlalchemy import MetaData, ForeignKey\n",
    "from sqlalchemy import Table, Column, Integer, String, delete\n",
    "import numpy as np\n",
    "import pandas as pd\n",
    "import pymysql"
   ]
  },
  {
   "cell_type": "markdown",
   "metadata": {},
   "source": [
    "# Connecting To DB & Import DS"
   ]
  },
  {
   "cell_type": "code",
   "execution_count": 2,
   "metadata": {},
   "outputs": [],
   "source": [
    "dataset = pd.read_csv('movie.csv')\n",
    "meta = MetaData()\n",
    "\n",
    "SERVER='localhost'\n",
    "USERNAME='root'\n",
    "PASSWORD='1051047595Ma'\n",
    "database='schema_test'\n",
    "engine = create_engine(f'mysql+pymysql://{USERNAME}:{PASSWORD}@{SERVER}:3306/{database}')\n",
    "conn = engine.connect()"
   ]
  },
  {
   "cell_type": "markdown",
   "metadata": {},
   "source": [
    "Dataset Info"
   ]
  },
  {
   "cell_type": "code",
   "execution_count": 6,
   "metadata": {},
   "outputs": [
    {
     "name": "stdout",
     "output_type": "stream",
     "text": [
      "<class 'pandas.core.frame.DataFrame'>\n",
      "RangeIndex: 250 entries, 0 to 249\n",
      "Data columns (total 13 columns):\n",
      " #   Column       Non-Null Count  Dtype \n",
      "---  ------       --------------  ----- \n",
      " 0   movie_id     250 non-null    object\n",
      " 1   title        250 non-null    object\n",
      " 2   year         250 non-null    int64 \n",
      " 3   parental     250 non-null    object\n",
      " 4   runtime      250 non-null    int64 \n",
      " 5   genre        250 non-null    object\n",
      " 6   id_director  250 non-null    object\n",
      " 7   director     250 non-null    object\n",
      " 8   ids_writer   250 non-null    object\n",
      " 9   writers      250 non-null    object\n",
      " 10  ids_stars    250 non-null    object\n",
      " 11  stars        250 non-null    object\n",
      " 12  gus          221 non-null    object\n",
      "dtypes: int64(2), object(11)\n",
      "memory usage: 25.5+ KB\n"
     ]
    }
   ],
   "source": [
    "dataset.info()"
   ]
  },
  {
   "cell_type": "code",
   "execution_count": 31,
   "metadata": {},
   "outputs": [
    {
     "data": {
      "text/html": [
       "<div>\n",
       "<style scoped>\n",
       "    .dataframe tbody tr th:only-of-type {\n",
       "        vertical-align: middle;\n",
       "    }\n",
       "\n",
       "    .dataframe tbody tr th {\n",
       "        vertical-align: top;\n",
       "    }\n",
       "\n",
       "    .dataframe thead th {\n",
       "        text-align: right;\n",
       "    }\n",
       "</style>\n",
       "<table border=\"1\" class=\"dataframe\">\n",
       "  <thead>\n",
       "    <tr style=\"text-align: right;\">\n",
       "      <th></th>\n",
       "      <th>movie_id</th>\n",
       "      <th>title</th>\n",
       "      <th>year</th>\n",
       "      <th>parental</th>\n",
       "      <th>runtime</th>\n",
       "      <th>genre</th>\n",
       "      <th>id_director</th>\n",
       "      <th>director</th>\n",
       "      <th>ids_writer</th>\n",
       "      <th>writers</th>\n",
       "      <th>ids_stars</th>\n",
       "      <th>stars</th>\n",
       "      <th>gus</th>\n",
       "    </tr>\n",
       "  </thead>\n",
       "  <tbody>\n",
       "    <tr>\n",
       "      <th>0</th>\n",
       "      <td>00111161</td>\n",
       "      <td>The Shawshank Redemption</td>\n",
       "      <td>1994</td>\n",
       "      <td>R</td>\n",
       "      <td>142</td>\n",
       "      <td>['Drama']</td>\n",
       "      <td>['0001104']</td>\n",
       "      <td>['Frank Darabont']</td>\n",
       "      <td>['0000175', '0001104']</td>\n",
       "      <td>['Stephen King', 'Frank Darabont']</td>\n",
       "      <td>['0000209', '0000151', '0348409']</td>\n",
       "      <td>['Tim Robbins', 'Morgan Freeman', 'Bob Gunton']</td>\n",
       "      <td>28767189</td>\n",
       "    </tr>\n",
       "    <tr>\n",
       "      <th>1</th>\n",
       "      <td>00068646</td>\n",
       "      <td>The Godfather</td>\n",
       "      <td>1972</td>\n",
       "      <td>R</td>\n",
       "      <td>175</td>\n",
       "      <td>['Crime', 'Drama']</td>\n",
       "      <td>['0000338']</td>\n",
       "      <td>['Francis Ford Coppola']</td>\n",
       "      <td>['0701374', '0000338']</td>\n",
       "      <td>['Mario Puzo', 'Francis Ford Coppola']</td>\n",
       "      <td>['0000008', '0000199', '0001001']</td>\n",
       "      <td>['Marlon Brando', 'Al Pacino', 'James Caan']</td>\n",
       "      <td>136381073</td>\n",
       "    </tr>\n",
       "    <tr>\n",
       "      <th>2</th>\n",
       "      <td>00468569</td>\n",
       "      <td>The Dark Knight</td>\n",
       "      <td>2008</td>\n",
       "      <td>PG-13</td>\n",
       "      <td>152</td>\n",
       "      <td>['Action', 'Crime', 'Drama']</td>\n",
       "      <td>['0634240']</td>\n",
       "      <td>['Christopher Nolan']</td>\n",
       "      <td>['0634300', '0634240', '0275286']</td>\n",
       "      <td>['Jonathan Nolan', 'Christopher Nolan', 'David...</td>\n",
       "      <td>['0000288', '0005132', '0001173']</td>\n",
       "      <td>['Christian Bale', 'Heath Ledger', 'Aaron Eckh...</td>\n",
       "      <td>534987076</td>\n",
       "    </tr>\n",
       "    <tr>\n",
       "      <th>3</th>\n",
       "      <td>00071562</td>\n",
       "      <td>The Godfather Part II</td>\n",
       "      <td>1974</td>\n",
       "      <td>R</td>\n",
       "      <td>202</td>\n",
       "      <td>['Crime', 'Drama']</td>\n",
       "      <td>['0000338']</td>\n",
       "      <td>['Francis Ford Coppola']</td>\n",
       "      <td>['0000338', '0701374']</td>\n",
       "      <td>['Francis Ford Coppola', 'Mario Puzo']</td>\n",
       "      <td>['0000199', '0000134', '0000380']</td>\n",
       "      <td>['Al Pacino', 'Robert De Niro', 'Robert Duvall']</td>\n",
       "      <td>47834595</td>\n",
       "    </tr>\n",
       "    <tr>\n",
       "      <th>4</th>\n",
       "      <td>00050083</td>\n",
       "      <td>12 Angry Men</td>\n",
       "      <td>1957</td>\n",
       "      <td>Approved</td>\n",
       "      <td>96</td>\n",
       "      <td>['Crime', 'Drama']</td>\n",
       "      <td>['0001486']</td>\n",
       "      <td>['Sidney Lumet']</td>\n",
       "      <td>['0741627']</td>\n",
       "      <td>['Reginald Rose']</td>\n",
       "      <td>['0000020', '0002011', '0000842']</td>\n",
       "      <td>['Henry Fonda', 'Lee J. Cobb', 'Martin Balsam']</td>\n",
       "      <td>None</td>\n",
       "    </tr>\n",
       "  </tbody>\n",
       "</table>\n",
       "</div>"
      ],
      "text/plain": [
       "   movie_id                     title  year  parental  runtime  \\\n",
       "0  00111161  The Shawshank Redemption  1994         R      142   \n",
       "1  00068646             The Godfather  1972         R      175   \n",
       "2  00468569           The Dark Knight  2008     PG-13      152   \n",
       "3  00071562     The Godfather Part II  1974         R      202   \n",
       "4  00050083              12 Angry Men  1957  Approved       96   \n",
       "\n",
       "                          genre  id_director                  director  \\\n",
       "0                     ['Drama']  ['0001104']        ['Frank Darabont']   \n",
       "1            ['Crime', 'Drama']  ['0000338']  ['Francis Ford Coppola']   \n",
       "2  ['Action', 'Crime', 'Drama']  ['0634240']     ['Christopher Nolan']   \n",
       "3            ['Crime', 'Drama']  ['0000338']  ['Francis Ford Coppola']   \n",
       "4            ['Crime', 'Drama']  ['0001486']          ['Sidney Lumet']   \n",
       "\n",
       "                          ids_writer  \\\n",
       "0             ['0000175', '0001104']   \n",
       "1             ['0701374', '0000338']   \n",
       "2  ['0634300', '0634240', '0275286']   \n",
       "3             ['0000338', '0701374']   \n",
       "4                        ['0741627']   \n",
       "\n",
       "                                             writers  \\\n",
       "0                 ['Stephen King', 'Frank Darabont']   \n",
       "1             ['Mario Puzo', 'Francis Ford Coppola']   \n",
       "2  ['Jonathan Nolan', 'Christopher Nolan', 'David...   \n",
       "3             ['Francis Ford Coppola', 'Mario Puzo']   \n",
       "4                                  ['Reginald Rose']   \n",
       "\n",
       "                           ids_stars  \\\n",
       "0  ['0000209', '0000151', '0348409']   \n",
       "1  ['0000008', '0000199', '0001001']   \n",
       "2  ['0000288', '0005132', '0001173']   \n",
       "3  ['0000199', '0000134', '0000380']   \n",
       "4  ['0000020', '0002011', '0000842']   \n",
       "\n",
       "                                               stars        gus  \n",
       "0    ['Tim Robbins', 'Morgan Freeman', 'Bob Gunton']   28767189  \n",
       "1       ['Marlon Brando', 'Al Pacino', 'James Caan']  136381073  \n",
       "2  ['Christian Bale', 'Heath Ledger', 'Aaron Eckh...  534987076  \n",
       "3   ['Al Pacino', 'Robert De Niro', 'Robert Duvall']   47834595  \n",
       "4    ['Henry Fonda', 'Lee J. Cobb', 'Martin Balsam']       None  "
      ]
     },
     "execution_count": 31,
     "metadata": {},
     "output_type": "execute_result"
    }
   ],
   "source": [
    "dataset.head()"
   ]
  },
  {
   "cell_type": "code",
   "execution_count": 4,
   "metadata": {},
   "outputs": [],
   "source": [
    "def charize(ids):\n",
    "    ids = str(ids)\n",
    "    diff = 8-len(ids)\n",
    "    if diff > 0:\n",
    "        ids = diff*'0' + ids\n",
    "    return ids"
   ]
  },
  {
   "cell_type": "code",
   "execution_count": 5,
   "metadata": {},
   "outputs": [],
   "source": [
    "dataset['movie_id'] = dataset['movie_id'].astype(object)\n",
    "dataset['gus'] = dataset['gus'].astype('Int64')\n",
    "dataset = dataset.replace({pd.NA: None})\n",
    "\n",
    "dataset['movie_id'] = dataset['movie_id'].apply(charize)"
   ]
  },
  {
   "cell_type": "markdown",
   "metadata": {},
   "source": [
    "Create & Insert movies Table"
   ]
  },
  {
   "cell_type": "code",
   "execution_count": 4,
   "metadata": {},
   "outputs": [],
   "source": [
    "movies = Table(\n",
    "    'movies', meta,\n",
    "    Column('id', String(8), primary_key = True), \n",
    "    Column('title', String(128), nullable=False), \n",
    "    Column('year', Integer),\n",
    "    Column('runtime', Integer),\n",
    "    Column('parental_guide', String(8)),\n",
    "    Column('gross_us_canda', Integer, nullable=True) \n",
    ")\n",
    "# meta.create_all(engine)"
   ]
  },
  {
   "cell_type": "code",
   "execution_count": 33,
   "metadata": {},
   "outputs": [
    {
     "name": "stdout",
     "output_type": "stream",
     "text": [
      "DataFrame inserted into MySQL\n"
     ]
    }
   ],
   "source": [
    "conn1 = pymysql.connect(host='localhost', user='root', passwd='1051047595Ma', db='schema_test')\n",
    "\n",
    "# Insert desired columns from dataframe into movies table\n",
    "with conn1:\n",
    "    cursor = conn1.cursor()\n",
    "    for index, row in dataset[['movie_id', 'title', 'year', 'runtime', 'parental', 'gus']].iterrows():\n",
    "        sql = \"INSERT INTO movies (id, title, year, runtime, parental_guide, gross_us_canda) VALUES (%s, %s, %s, %s, %s, %s)\"\n",
    "        cursor.execute(sql, tuple(row))\n",
    "    conn1.commit()\n",
    "    \n",
    "print(\"DataFrame inserted into MySQL\")"
   ]
  },
  {
   "cell_type": "markdown",
   "metadata": {},
   "source": [
    "Customize Data"
   ]
  },
  {
   "cell_type": "code",
   "execution_count": 12,
   "metadata": {},
   "outputs": [
    {
     "data": {
      "text/html": [
       "<div>\n",
       "<style scoped>\n",
       "    .dataframe tbody tr th:only-of-type {\n",
       "        vertical-align: middle;\n",
       "    }\n",
       "\n",
       "    .dataframe tbody tr th {\n",
       "        vertical-align: top;\n",
       "    }\n",
       "\n",
       "    .dataframe thead th {\n",
       "        text-align: right;\n",
       "    }\n",
       "</style>\n",
       "<table border=\"1\" class=\"dataframe\">\n",
       "  <thead>\n",
       "    <tr style=\"text-align: right;\">\n",
       "      <th></th>\n",
       "      <th>movie_id</th>\n",
       "      <th>title</th>\n",
       "      <th>year</th>\n",
       "      <th>parental</th>\n",
       "      <th>runtime</th>\n",
       "      <th>genre</th>\n",
       "      <th>id_director</th>\n",
       "      <th>director</th>\n",
       "      <th>ids_writer</th>\n",
       "      <th>writers</th>\n",
       "      <th>ids_stars</th>\n",
       "      <th>stars</th>\n",
       "      <th>gus</th>\n",
       "    </tr>\n",
       "  </thead>\n",
       "  <tbody>\n",
       "    <tr>\n",
       "      <th>0</th>\n",
       "      <td>00111161</td>\n",
       "      <td>The Shawshank Redemption</td>\n",
       "      <td>1994</td>\n",
       "      <td>R</td>\n",
       "      <td>142</td>\n",
       "      <td>Drama</td>\n",
       "      <td>['0001104']</td>\n",
       "      <td>['Frank Darabont']</td>\n",
       "      <td>['0000175', '0001104']</td>\n",
       "      <td>['Stephen King', 'Frank Darabont']</td>\n",
       "      <td>['0000209', '0000151', '0348409']</td>\n",
       "      <td>['Tim Robbins', 'Morgan Freeman', 'Bob Gunton']</td>\n",
       "      <td>28767189</td>\n",
       "    </tr>\n",
       "    <tr>\n",
       "      <th>1</th>\n",
       "      <td>00068646</td>\n",
       "      <td>The Godfather</td>\n",
       "      <td>1972</td>\n",
       "      <td>R</td>\n",
       "      <td>175</td>\n",
       "      <td>Crime</td>\n",
       "      <td>['0000338']</td>\n",
       "      <td>['Francis Ford Coppola']</td>\n",
       "      <td>['0701374', '0000338']</td>\n",
       "      <td>['Mario Puzo', 'Francis Ford Coppola']</td>\n",
       "      <td>['0000008', '0000199', '0001001']</td>\n",
       "      <td>['Marlon Brando', 'Al Pacino', 'James Caan']</td>\n",
       "      <td>136381073</td>\n",
       "    </tr>\n",
       "    <tr>\n",
       "      <th>1</th>\n",
       "      <td>00068646</td>\n",
       "      <td>The Godfather</td>\n",
       "      <td>1972</td>\n",
       "      <td>R</td>\n",
       "      <td>175</td>\n",
       "      <td>Drama</td>\n",
       "      <td>['0000338']</td>\n",
       "      <td>['Francis Ford Coppola']</td>\n",
       "      <td>['0701374', '0000338']</td>\n",
       "      <td>['Mario Puzo', 'Francis Ford Coppola']</td>\n",
       "      <td>['0000008', '0000199', '0001001']</td>\n",
       "      <td>['Marlon Brando', 'Al Pacino', 'James Caan']</td>\n",
       "      <td>136381073</td>\n",
       "    </tr>\n",
       "    <tr>\n",
       "      <th>2</th>\n",
       "      <td>00468569</td>\n",
       "      <td>The Dark Knight</td>\n",
       "      <td>2008</td>\n",
       "      <td>PG-13</td>\n",
       "      <td>152</td>\n",
       "      <td>Action</td>\n",
       "      <td>['0634240']</td>\n",
       "      <td>['Christopher Nolan']</td>\n",
       "      <td>['0634300', '0634240', '0275286']</td>\n",
       "      <td>['Jonathan Nolan', 'Christopher Nolan', 'David...</td>\n",
       "      <td>['0000288', '0005132', '0001173']</td>\n",
       "      <td>['Christian Bale', 'Heath Ledger', 'Aaron Eckh...</td>\n",
       "      <td>534987076</td>\n",
       "    </tr>\n",
       "    <tr>\n",
       "      <th>2</th>\n",
       "      <td>00468569</td>\n",
       "      <td>The Dark Knight</td>\n",
       "      <td>2008</td>\n",
       "      <td>PG-13</td>\n",
       "      <td>152</td>\n",
       "      <td>Crime</td>\n",
       "      <td>['0634240']</td>\n",
       "      <td>['Christopher Nolan']</td>\n",
       "      <td>['0634300', '0634240', '0275286']</td>\n",
       "      <td>['Jonathan Nolan', 'Christopher Nolan', 'David...</td>\n",
       "      <td>['0000288', '0005132', '0001173']</td>\n",
       "      <td>['Christian Bale', 'Heath Ledger', 'Aaron Eckh...</td>\n",
       "      <td>534987076</td>\n",
       "    </tr>\n",
       "    <tr>\n",
       "      <th>2</th>\n",
       "      <td>00468569</td>\n",
       "      <td>The Dark Knight</td>\n",
       "      <td>2008</td>\n",
       "      <td>PG-13</td>\n",
       "      <td>152</td>\n",
       "      <td>Drama</td>\n",
       "      <td>['0634240']</td>\n",
       "      <td>['Christopher Nolan']</td>\n",
       "      <td>['0634300', '0634240', '0275286']</td>\n",
       "      <td>['Jonathan Nolan', 'Christopher Nolan', 'David...</td>\n",
       "      <td>['0000288', '0005132', '0001173']</td>\n",
       "      <td>['Christian Bale', 'Heath Ledger', 'Aaron Eckh...</td>\n",
       "      <td>534987076</td>\n",
       "    </tr>\n",
       "    <tr>\n",
       "      <th>3</th>\n",
       "      <td>00071562</td>\n",
       "      <td>The Godfather Part II</td>\n",
       "      <td>1974</td>\n",
       "      <td>R</td>\n",
       "      <td>202</td>\n",
       "      <td>Crime</td>\n",
       "      <td>['0000338']</td>\n",
       "      <td>['Francis Ford Coppola']</td>\n",
       "      <td>['0000338', '0701374']</td>\n",
       "      <td>['Francis Ford Coppola', 'Mario Puzo']</td>\n",
       "      <td>['0000199', '0000134', '0000380']</td>\n",
       "      <td>['Al Pacino', 'Robert De Niro', 'Robert Duvall']</td>\n",
       "      <td>47834595</td>\n",
       "    </tr>\n",
       "    <tr>\n",
       "      <th>3</th>\n",
       "      <td>00071562</td>\n",
       "      <td>The Godfather Part II</td>\n",
       "      <td>1974</td>\n",
       "      <td>R</td>\n",
       "      <td>202</td>\n",
       "      <td>Drama</td>\n",
       "      <td>['0000338']</td>\n",
       "      <td>['Francis Ford Coppola']</td>\n",
       "      <td>['0000338', '0701374']</td>\n",
       "      <td>['Francis Ford Coppola', 'Mario Puzo']</td>\n",
       "      <td>['0000199', '0000134', '0000380']</td>\n",
       "      <td>['Al Pacino', 'Robert De Niro', 'Robert Duvall']</td>\n",
       "      <td>47834595</td>\n",
       "    </tr>\n",
       "    <tr>\n",
       "      <th>4</th>\n",
       "      <td>00050083</td>\n",
       "      <td>12 Angry Men</td>\n",
       "      <td>1957</td>\n",
       "      <td>Approved</td>\n",
       "      <td>96</td>\n",
       "      <td>Crime</td>\n",
       "      <td>['0001486']</td>\n",
       "      <td>['Sidney Lumet']</td>\n",
       "      <td>['0741627']</td>\n",
       "      <td>['Reginald Rose']</td>\n",
       "      <td>['0000020', '0002011', '0000842']</td>\n",
       "      <td>['Henry Fonda', 'Lee J. Cobb', 'Martin Balsam']</td>\n",
       "      <td>None</td>\n",
       "    </tr>\n",
       "    <tr>\n",
       "      <th>4</th>\n",
       "      <td>00050083</td>\n",
       "      <td>12 Angry Men</td>\n",
       "      <td>1957</td>\n",
       "      <td>Approved</td>\n",
       "      <td>96</td>\n",
       "      <td>Drama</td>\n",
       "      <td>['0001486']</td>\n",
       "      <td>['Sidney Lumet']</td>\n",
       "      <td>['0741627']</td>\n",
       "      <td>['Reginald Rose']</td>\n",
       "      <td>['0000020', '0002011', '0000842']</td>\n",
       "      <td>['Henry Fonda', 'Lee J. Cobb', 'Martin Balsam']</td>\n",
       "      <td>None</td>\n",
       "    </tr>\n",
       "  </tbody>\n",
       "</table>\n",
       "</div>"
      ],
      "text/plain": [
       "   movie_id                     title  year  parental  runtime   genre  \\\n",
       "0  00111161  The Shawshank Redemption  1994         R      142   Drama   \n",
       "1  00068646             The Godfather  1972         R      175   Crime   \n",
       "1  00068646             The Godfather  1972         R      175   Drama   \n",
       "2  00468569           The Dark Knight  2008     PG-13      152  Action   \n",
       "2  00468569           The Dark Knight  2008     PG-13      152   Crime   \n",
       "2  00468569           The Dark Knight  2008     PG-13      152   Drama   \n",
       "3  00071562     The Godfather Part II  1974         R      202   Crime   \n",
       "3  00071562     The Godfather Part II  1974         R      202   Drama   \n",
       "4  00050083              12 Angry Men  1957  Approved       96   Crime   \n",
       "4  00050083              12 Angry Men  1957  Approved       96   Drama   \n",
       "\n",
       "   id_director                  director                         ids_writer  \\\n",
       "0  ['0001104']        ['Frank Darabont']             ['0000175', '0001104']   \n",
       "1  ['0000338']  ['Francis Ford Coppola']             ['0701374', '0000338']   \n",
       "1  ['0000338']  ['Francis Ford Coppola']             ['0701374', '0000338']   \n",
       "2  ['0634240']     ['Christopher Nolan']  ['0634300', '0634240', '0275286']   \n",
       "2  ['0634240']     ['Christopher Nolan']  ['0634300', '0634240', '0275286']   \n",
       "2  ['0634240']     ['Christopher Nolan']  ['0634300', '0634240', '0275286']   \n",
       "3  ['0000338']  ['Francis Ford Coppola']             ['0000338', '0701374']   \n",
       "3  ['0000338']  ['Francis Ford Coppola']             ['0000338', '0701374']   \n",
       "4  ['0001486']          ['Sidney Lumet']                        ['0741627']   \n",
       "4  ['0001486']          ['Sidney Lumet']                        ['0741627']   \n",
       "\n",
       "                                             writers  \\\n",
       "0                 ['Stephen King', 'Frank Darabont']   \n",
       "1             ['Mario Puzo', 'Francis Ford Coppola']   \n",
       "1             ['Mario Puzo', 'Francis Ford Coppola']   \n",
       "2  ['Jonathan Nolan', 'Christopher Nolan', 'David...   \n",
       "2  ['Jonathan Nolan', 'Christopher Nolan', 'David...   \n",
       "2  ['Jonathan Nolan', 'Christopher Nolan', 'David...   \n",
       "3             ['Francis Ford Coppola', 'Mario Puzo']   \n",
       "3             ['Francis Ford Coppola', 'Mario Puzo']   \n",
       "4                                  ['Reginald Rose']   \n",
       "4                                  ['Reginald Rose']   \n",
       "\n",
       "                           ids_stars  \\\n",
       "0  ['0000209', '0000151', '0348409']   \n",
       "1  ['0000008', '0000199', '0001001']   \n",
       "1  ['0000008', '0000199', '0001001']   \n",
       "2  ['0000288', '0005132', '0001173']   \n",
       "2  ['0000288', '0005132', '0001173']   \n",
       "2  ['0000288', '0005132', '0001173']   \n",
       "3  ['0000199', '0000134', '0000380']   \n",
       "3  ['0000199', '0000134', '0000380']   \n",
       "4  ['0000020', '0002011', '0000842']   \n",
       "4  ['0000020', '0002011', '0000842']   \n",
       "\n",
       "                                               stars        gus  \n",
       "0    ['Tim Robbins', 'Morgan Freeman', 'Bob Gunton']   28767189  \n",
       "1       ['Marlon Brando', 'Al Pacino', 'James Caan']  136381073  \n",
       "1       ['Marlon Brando', 'Al Pacino', 'James Caan']  136381073  \n",
       "2  ['Christian Bale', 'Heath Ledger', 'Aaron Eckh...  534987076  \n",
       "2  ['Christian Bale', 'Heath Ledger', 'Aaron Eckh...  534987076  \n",
       "2  ['Christian Bale', 'Heath Ledger', 'Aaron Eckh...  534987076  \n",
       "3   ['Al Pacino', 'Robert De Niro', 'Robert Duvall']   47834595  \n",
       "3   ['Al Pacino', 'Robert De Niro', 'Robert Duvall']   47834595  \n",
       "4    ['Henry Fonda', 'Lee J. Cobb', 'Martin Balsam']       None  \n",
       "4    ['Henry Fonda', 'Lee J. Cobb', 'Martin Balsam']       None  "
      ]
     },
     "execution_count": 12,
     "metadata": {},
     "output_type": "execute_result"
    }
   ],
   "source": [
    "from ast import literal_eval\n",
    "full_ds = dataset.copy()\n",
    "\n",
    "full_ds['genre'] = full_ds['genre'].apply(literal_eval)\n",
    "# full_ds['id_director'] = full_ds['id_director'].apply(literal_eval)\n",
    "# full_ds['director'] = full_ds['director'].apply(literal_eval)\n",
    "# full_ds['ids_writer'] = full_ds['ids_writer'].apply(literal_eval)\n",
    "# full_ds['writers'] = full_ds['writers'].apply(literal_eval)\n",
    "# full_ds['ids_stars'] = full_ds['ids_stars'].apply(literal_eval)\n",
    "# full_ds['stars'] = full_ds['stars'].apply(literal_eval)\n",
    "# Explode array columns into rows\n",
    "full_ds =full_ds.explode('genre')\n",
    "# full_ds =full_ds.explode('id_director')\n",
    "# full_ds =full_ds.explode('director')\n",
    "# full_wr =full_ds.explode('ids_writer')\n",
    "# full_ds =full_ds.explode('ids_writer')\n",
    "# full_ds = full_ds.explode('writers')\n",
    "\n",
    "# full_ds =full_ds.explode('ids_stars')\n",
    "# full_ds =full_ds.explode('stars')\n",
    "\n",
    "# Reset index to remove old index  \n",
    "# full_ds =full_ds.reset_index(drop=True)\n",
    "full_ds.head(10)"
   ]
  },
  {
   "cell_type": "markdown",
   "metadata": {},
   "source": [
    "Person"
   ]
  },
  {
   "cell_type": "code",
   "execution_count": 5,
   "metadata": {},
   "outputs": [
    {
     "data": {
      "text/html": [
       "<div>\n",
       "<style scoped>\n",
       "    .dataframe tbody tr th:only-of-type {\n",
       "        vertical-align: middle;\n",
       "    }\n",
       "\n",
       "    .dataframe tbody tr th {\n",
       "        vertical-align: top;\n",
       "    }\n",
       "\n",
       "    .dataframe thead th {\n",
       "        text-align: right;\n",
       "    }\n",
       "</style>\n",
       "<table border=\"1\" class=\"dataframe\">\n",
       "  <thead>\n",
       "    <tr style=\"text-align: right;\">\n",
       "      <th></th>\n",
       "      <th>id</th>\n",
       "      <th>name</th>\n",
       "    </tr>\n",
       "  </thead>\n",
       "  <tbody>\n",
       "    <tr>\n",
       "      <th>count</th>\n",
       "      <td>1200</td>\n",
       "      <td>1200</td>\n",
       "    </tr>\n",
       "    <tr>\n",
       "      <th>unique</th>\n",
       "      <td>1076</td>\n",
       "      <td>1074</td>\n",
       "    </tr>\n",
       "    <tr>\n",
       "      <th>top</th>\n",
       "      <td>0000080</td>\n",
       "      <td>Orson Welles</td>\n",
       "    </tr>\n",
       "    <tr>\n",
       "      <th>freq</th>\n",
       "      <td>3</td>\n",
       "      <td>3</td>\n",
       "    </tr>\n",
       "  </tbody>\n",
       "</table>\n",
       "</div>"
      ],
      "text/plain": [
       "             id          name\n",
       "count      1200          1200\n",
       "unique     1076          1074\n",
       "top     0000080  Orson Welles\n",
       "freq          3             3"
      ]
     },
     "execution_count": 5,
     "metadata": {},
     "output_type": "execute_result"
    }
   ],
   "source": [
    "id_pers = full_ds['id_director'].unique()\n",
    "pers = full_ds['director'].unique()\n",
    "id_pers = np.concatenate((id_pers ,full_ds['ids_writer'].unique(), full_ds['ids_stars'].unique()))\n",
    "pers = np.concatenate((pers ,full_ds['writers'].unique(), full_ds['stars'].unique()))\n",
    "person_df = pd.DataFrame({'id': id_pers,\n",
    "                     'name': pers})\n",
    "\n",
    "person_df.describe()"
   ]
  },
  {
   "cell_type": "code",
   "execution_count": 6,
   "metadata": {},
   "outputs": [
    {
     "data": {
      "text/html": [
       "<div>\n",
       "<style scoped>\n",
       "    .dataframe tbody tr th:only-of-type {\n",
       "        vertical-align: middle;\n",
       "    }\n",
       "\n",
       "    .dataframe tbody tr th {\n",
       "        vertical-align: top;\n",
       "    }\n",
       "\n",
       "    .dataframe thead th {\n",
       "        text-align: right;\n",
       "    }\n",
       "</style>\n",
       "<table border=\"1\" class=\"dataframe\">\n",
       "  <thead>\n",
       "    <tr style=\"text-align: right;\">\n",
       "      <th></th>\n",
       "      <th>id</th>\n",
       "      <th>name</th>\n",
       "    </tr>\n",
       "  </thead>\n",
       "  <tbody>\n",
       "    <tr>\n",
       "      <th>count</th>\n",
       "      <td>1076</td>\n",
       "      <td>1076</td>\n",
       "    </tr>\n",
       "    <tr>\n",
       "      <th>unique</th>\n",
       "      <td>1076</td>\n",
       "      <td>1074</td>\n",
       "    </tr>\n",
       "    <tr>\n",
       "      <th>top</th>\n",
       "      <td>0001104</td>\n",
       "      <td>Steve McQueen</td>\n",
       "    </tr>\n",
       "    <tr>\n",
       "      <th>freq</th>\n",
       "      <td>1</td>\n",
       "      <td>2</td>\n",
       "    </tr>\n",
       "  </tbody>\n",
       "</table>\n",
       "</div>"
      ],
      "text/plain": [
       "             id           name\n",
       "count      1076           1076\n",
       "unique     1076           1074\n",
       "top     0001104  Steve McQueen\n",
       "freq          1              2"
      ]
     },
     "execution_count": 6,
     "metadata": {},
     "output_type": "execute_result"
    }
   ],
   "source": [
    "person_df.drop_duplicates(inplace=True)\n",
    "person_df.describe()"
   ]
  },
  {
   "cell_type": "code",
   "execution_count": 28,
   "metadata": {},
   "outputs": [],
   "source": [
    "person = Table(\n",
    "    'person', meta,\n",
    "    Column('id', String(8), primary_key = True), \n",
    "    Column('name', String(32))\n",
    ")\n",
    "# meta.create_all(engine)"
   ]
  },
  {
   "cell_type": "code",
   "execution_count": 8,
   "metadata": {},
   "outputs": [
    {
     "name": "stdout",
     "output_type": "stream",
     "text": [
      "DataFrame inserted into MySQL\n"
     ]
    }
   ],
   "source": [
    "conn1 = pymysql.connect(host='localhost', user='root', passwd='1051047595Ma', db='schema_test')\n",
    "\n",
    "# Insert desired columns from dataframe into movies table\n",
    "with conn1:\n",
    "    cursor = conn1.cursor()\n",
    "    for index, row in person_df[['id', 'name']].iterrows():\n",
    "        sql = \"INSERT INTO person (id, name) VALUES (%s, %s)\"\n",
    "        cursor.execute(sql, tuple(row))\n",
    "    conn1.commit()\n",
    "    \n",
    "print(\"DataFrame inserted into MySQL\")"
   ]
  },
  {
   "cell_type": "markdown",
   "metadata": {},
   "source": [
    "Cast"
   ]
  },
  {
   "cell_type": "code",
   "execution_count": 10,
   "metadata": {},
   "outputs": [],
   "source": [
    "id_movie = full_ds['movie_id']\n",
    "id_star = full_ds['ids_stars']\n",
    "cast_df = pd.DataFrame({'movie_id': id_movie,\n",
    "                     'person_id': id_star})"
   ]
  },
  {
   "cell_type": "code",
   "execution_count": 27,
   "metadata": {},
   "outputs": [],
   "source": [
    "cast = Table(\n",
    "    'cast', meta,\n",
    "    Column('id', Integer, primary_key = True, autoincrement='auto'),\n",
    "    Column('movie_id', String(8), ForeignKey(movies.c.id)),\n",
    "    Column('person_id', String(8), ForeignKey(person.c.id)),\n",
    "    extend_existing=True\n",
    ")\n",
    "meta.create_all(engine)"
   ]
  },
  {
   "cell_type": "code",
   "execution_count": 29,
   "metadata": {},
   "outputs": [
    {
     "name": "stdout",
     "output_type": "stream",
     "text": [
      "DataFrame inserted into MySQL\n"
     ]
    }
   ],
   "source": [
    "conn1 = pymysql.connect(host='localhost', user='root', passwd='1051047595Ma', db='schema_test')\n",
    "\n",
    "# Insert desired columns from dataframe into movies table\n",
    "with conn1:\n",
    "    cursor = conn1.cursor()\n",
    "    for index, row in cast_df[['movie_id', 'person_id']].iterrows():\n",
    "        sql = \"INSERT INTO cast (movie_id, person_id) VALUES (%s, %s)\"\n",
    "        cursor.execute(sql, tuple(row))\n",
    "    conn1.commit()\n",
    "    \n",
    "print(\"DataFrame inserted into MySQL\")"
   ]
  },
  {
   "cell_type": "markdown",
   "metadata": {},
   "source": [
    "Crew"
   ]
  },
  {
   "cell_type": "code",
   "execution_count": 8,
   "metadata": {},
   "outputs": [],
   "source": [
    "id_movie = full_ds['movie_id']\n",
    "id_movie = np.concatenate((id_movie, full_wr['movie_id']))\n",
    "id_direc = full_ds['id_director']\n",
    "id_writer = full_wr['ids_writer']\n",
    "role = np.array(['Director']*len(id_direc))\n",
    "role = np.concatenate((role, np.array(['Writer']*len(id_writer))))\n",
    "crew_df = pd.DataFrame({\n",
    "    'movie_id': id_movie,\n",
    "    'person_id': np.concatenate((id_direc, id_writer)),\n",
    "    'role': role\n",
    "})"
   ]
  },
  {
   "cell_type": "code",
   "execution_count": 23,
   "metadata": {},
   "outputs": [
    {
     "data": {
      "text/html": [
       "<div>\n",
       "<style scoped>\n",
       "    .dataframe tbody tr th:only-of-type {\n",
       "        vertical-align: middle;\n",
       "    }\n",
       "\n",
       "    .dataframe tbody tr th {\n",
       "        vertical-align: top;\n",
       "    }\n",
       "\n",
       "    .dataframe thead th {\n",
       "        text-align: right;\n",
       "    }\n",
       "</style>\n",
       "<table border=\"1\" class=\"dataframe\">\n",
       "  <thead>\n",
       "    <tr style=\"text-align: right;\">\n",
       "      <th></th>\n",
       "      <th>movie_id</th>\n",
       "      <th>person_id</th>\n",
       "      <th>role</th>\n",
       "    </tr>\n",
       "  </thead>\n",
       "  <tbody>\n",
       "    <tr>\n",
       "      <th>count</th>\n",
       "      <td>921</td>\n",
       "      <td>921</td>\n",
       "      <td>921</td>\n",
       "    </tr>\n",
       "    <tr>\n",
       "      <th>unique</th>\n",
       "      <td>250</td>\n",
       "      <td>511</td>\n",
       "      <td>2</td>\n",
       "    </tr>\n",
       "    <tr>\n",
       "      <th>top</th>\n",
       "      <td>09362722</td>\n",
       "      <td>0634240</td>\n",
       "      <td>Writer</td>\n",
       "    </tr>\n",
       "    <tr>\n",
       "      <th>freq</th>\n",
       "      <td>12</td>\n",
       "      <td>16</td>\n",
       "      <td>640</td>\n",
       "    </tr>\n",
       "  </tbody>\n",
       "</table>\n",
       "</div>"
      ],
      "text/plain": [
       "        movie_id person_id    role\n",
       "count        921       921     921\n",
       "unique       250       511       2\n",
       "top     09362722   0634240  Writer\n",
       "freq          12        16     640"
      ]
     },
     "execution_count": 23,
     "metadata": {},
     "output_type": "execute_result"
    }
   ],
   "source": [
    "crew_df.describe()"
   ]
  },
  {
   "cell_type": "code",
   "execution_count": 9,
   "metadata": {},
   "outputs": [
    {
     "data": {
      "text/html": [
       "<div>\n",
       "<style scoped>\n",
       "    .dataframe tbody tr th:only-of-type {\n",
       "        vertical-align: middle;\n",
       "    }\n",
       "\n",
       "    .dataframe tbody tr th {\n",
       "        vertical-align: top;\n",
       "    }\n",
       "\n",
       "    .dataframe thead th {\n",
       "        text-align: right;\n",
       "    }\n",
       "</style>\n",
       "<table border=\"1\" class=\"dataframe\">\n",
       "  <thead>\n",
       "    <tr style=\"text-align: right;\">\n",
       "      <th></th>\n",
       "      <th>movie_id</th>\n",
       "      <th>person_id</th>\n",
       "      <th>role</th>\n",
       "    </tr>\n",
       "  </thead>\n",
       "  <tbody>\n",
       "    <tr>\n",
       "      <th>count</th>\n",
       "      <td>511</td>\n",
       "      <td>511</td>\n",
       "      <td>511</td>\n",
       "    </tr>\n",
       "    <tr>\n",
       "      <th>unique</th>\n",
       "      <td>221</td>\n",
       "      <td>511</td>\n",
       "      <td>2</td>\n",
       "    </tr>\n",
       "    <tr>\n",
       "      <th>top</th>\n",
       "      <td>00031381</td>\n",
       "      <td>0001104</td>\n",
       "      <td>Writer</td>\n",
       "    </tr>\n",
       "    <tr>\n",
       "      <th>freq</th>\n",
       "      <td>6</td>\n",
       "      <td>1</td>\n",
       "      <td>335</td>\n",
       "    </tr>\n",
       "  </tbody>\n",
       "</table>\n",
       "</div>"
      ],
      "text/plain": [
       "        movie_id person_id    role\n",
       "count        511       511     511\n",
       "unique       221       511       2\n",
       "top     00031381   0001104  Writer\n",
       "freq           6         1     335"
      ]
     },
     "execution_count": 9,
     "metadata": {},
     "output_type": "execute_result"
    }
   ],
   "source": [
    "crew_df.drop_duplicates(['person_id'], inplace=True)\n",
    "crew_df.describe()"
   ]
  },
  {
   "cell_type": "code",
   "execution_count": 30,
   "metadata": {},
   "outputs": [],
   "source": [
    "crew = Table(\n",
    "    'crew', meta,\n",
    "    Column('id', Integer, primary_key = True, autoincrement='auto'),\n",
    "    Column('movie_id', String(8), ForeignKey(movies.c.id)),\n",
    "    Column('person_id', String(8), ForeignKey(person.c.id)),\n",
    "    Column('role', String(8))\n",
    ")\n",
    "meta.create_all(engine)"
   ]
  },
  {
   "cell_type": "code",
   "execution_count": 11,
   "metadata": {},
   "outputs": [
    {
     "name": "stdout",
     "output_type": "stream",
     "text": [
      "DataFrame inserted into MySQL\n"
     ]
    }
   ],
   "source": [
    "conn1 = pymysql.connect(host='localhost', user='root', passwd='1051047595Ma', db='schema_test')\n",
    "\n",
    "# Insert desired columns from dataframe into movies table\n",
    "with conn1:\n",
    "    cursor = conn1.cursor()\n",
    "    for index, row in crew_df[['movie_id', 'person_id', 'role']].iterrows():\n",
    "        sql = \"INSERT INTO crew (movie_id, person_id, role) VALUES (%s, %s, %s)\"\n",
    "        cursor.execute(sql, tuple(row))\n",
    "    conn1.commit()\n",
    "    \n",
    "print(\"DataFrame inserted into MySQL\")"
   ]
  },
  {
   "cell_type": "markdown",
   "metadata": {},
   "source": [
    "Genres"
   ]
  },
  {
   "cell_type": "code",
   "execution_count": 15,
   "metadata": {},
   "outputs": [],
   "source": [
    "id_movie = full_ds['movie_id']\n",
    "genre = full_ds['genre']\n",
    "genre_df = pd.DataFrame({'movie_id': id_movie,\n",
    "                     'genre': genre})"
   ]
  },
  {
   "cell_type": "code",
   "execution_count": 5,
   "metadata": {},
   "outputs": [],
   "source": [
    "genre_movie = Table(\n",
    "    'genre_movie', meta,\n",
    "    Column('id', Integer, primary_key = True, autoincrement='auto'),\n",
    "    Column('movie_id', String(8), ForeignKey(movies.c.id)),\n",
    "    Column('genre', String(16))\n",
    ")\n",
    "# meta.create_all(engine)"
   ]
  },
  {
   "cell_type": "code",
   "execution_count": 16,
   "metadata": {},
   "outputs": [
    {
     "name": "stdout",
     "output_type": "stream",
     "text": [
      "DataFrame inserted into MySQL\n"
     ]
    }
   ],
   "source": [
    "conn1 = pymysql.connect(host='localhost', user='root', passwd='1051047595Ma', db='schema_test')\n",
    "\n",
    "# Insert desired columns from dataframe into movies table\n",
    "with conn1:\n",
    "    cursor = conn1.cursor()\n",
    "    for index, row in genre_df[['movie_id', 'genre']].iterrows():\n",
    "        sql = \"INSERT INTO genre_movie (movie_id, genre) VALUES (%s, %s)\"\n",
    "        cursor.execute(sql, tuple(row))\n",
    "    conn1.commit()\n",
    "    \n",
    "print(\"DataFrame inserted into MySQL\")"
   ]
  },
  {
   "cell_type": "code",
   "execution_count": 8,
   "metadata": {},
   "outputs": [
    {
     "data": {
      "text/plain": [
       "<sqlalchemy.engine.cursor.CursorResult at 0x1becaab0bb0>"
      ]
     },
     "execution_count": 8,
     "metadata": {},
     "output_type": "execute_result"
    }
   ],
   "source": [
    "dele = genre_movie.delete().where(genre_movie.c.genre == 'Fi')\n",
    "conn.execute(dele)"
   ]
  }
 ],
 "metadata": {
  "kernelspec": {
   "display_name": "DataAnalyst",
   "language": "python",
   "name": "python3"
  },
  "language_info": {
   "codemirror_mode": {
    "name": "ipython",
    "version": 3
   },
   "file_extension": ".py",
   "mimetype": "text/x-python",
   "name": "python",
   "nbconvert_exporter": "python",
   "pygments_lexer": "ipython3",
   "version": "3.11.4"
  },
  "orig_nbformat": 4
 },
 "nbformat": 4,
 "nbformat_minor": 2
}
